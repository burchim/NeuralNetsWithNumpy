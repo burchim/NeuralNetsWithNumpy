{
 "cells": [
  {
   "cell_type": "code",
   "execution_count": 1,
   "metadata": {
    "id": "SZzAQQCrX68F"
   },
   "outputs": [],
   "source": [
    "import numpy as np\n",
    "import matplotlib.pyplot as plt\n",
    "from keras.datasets import mnist\n",
    "from keras.utils.np_utils import to_categorical"
   ]
  },
  {
   "cell_type": "code",
   "execution_count": null,
   "metadata": {
    "colab": {
     "base_uri": "https://localhost:8080/"
    },
    "id": "5kWN_H9NsBSN",
    "outputId": "7751cbb5-b7cc-4db5-cd45-28ccc2c0de3f"
   },
   "outputs": [],
   "source": [
    "!git clone https://github.com/burchim/NeuralNetsWithNumpy.git\n",
    "%cd NeuralNetsWithNumpy"
   ]
  },
  {
   "cell_type": "code",
   "execution_count": 2,
   "metadata": {
    "id": "cALwnq3-r0ZX"
   },
   "outputs": [],
   "source": [
    "# Modules\n",
    "from nnet.modules import (\n",
    "  Identity,\n",
    "  Sigmoid,\n",
    "  Tanh,\n",
    "  ReLU,\n",
    "  PReLU,\n",
    "  Swish,\n",
    "  LayerNorm,\n",
    "  BatchNorm\n",
    ")\n",
    "\n",
    "# Optimizers\n",
    "from nnet.optimizers import (\n",
    "  SGD,\n",
    "  RMSprop,\n",
    "  Adam,\n",
    "  AdamW\n",
    ")\n",
    "\n",
    "# Losses\n",
    "from nnet.losses import (\n",
    "  MeanAbsoluteError,\n",
    "  MeanSquaredError,\n",
    "  SoftmaxCrossEntropy\n",
    ")\n",
    "\n",
    "# Schedulers\n",
    "from nnet.schedulers import (\n",
    "  ConstantScheduler,\n",
    "  WarmupCosineAnnealingScheduler\n",
    ")\n",
    "\n",
    "# Model\n",
    "from nnet.models import CNNModel"
   ]
  },
  {
   "cell_type": "code",
   "execution_count": 3,
   "metadata": {
    "colab": {
     "base_uri": "https://localhost:8080/"
    },
    "id": "1iSqq89Dr0ZZ",
    "outputId": "501c538f-9819-4ea8-cf87-44d11a17338c"
   },
   "outputs": [
    {
     "name": "stdout",
     "output_type": "stream",
     "text": [
      "x_train: (60000, 28, 28)\n",
      "y_train: (60000, 10)\n",
      "x_val:  (10000, 28, 28)\n",
      "y_val:  (10000, 10)\n",
      "\n"
     ]
    }
   ],
   "source": [
    "# Seed\n",
    "seed = 42\n",
    "np.random.seed(seed)\n",
    "\n",
    "# dtype\n",
    "dtype = np.float32\n",
    "\n",
    "# Load Dataset\n",
    "(x_train, y_train), (x_val, y_val) = mnist.load_data()\n",
    "\n",
    "# Prepare Dataset\n",
    "x_train = (x_train/255).astype(dtype)\n",
    "y_train = to_categorical(y_train).astype(dtype)\n",
    "x_val = (x_val/255).astype(dtype)\n",
    "y_val = to_categorical(y_val).astype(dtype)\n",
    "\n",
    "# shapes\n",
    "print('x_train: ' + str(x_train.shape))\n",
    "print('y_train: ' + str(y_train.shape))\n",
    "print('x_val:  '  + str(x_val.shape))\n",
    "print('y_val:  '  + str(y_val.shape))\n",
    "print()"
   ]
  },
  {
   "cell_type": "code",
   "execution_count": 4,
   "metadata": {
    "id": "WYefD1Zvr0Za"
   },
   "outputs": [],
   "source": [
    "# Params\n",
    "epochs = 5\n",
    "batch_size = 32\n",
    "optimizer = AdamW\n",
    "scheduler = WarmupCosineAnnealingScheduler\n",
    "\n",
    "in_height = 28\n",
    "in_width = 28\n",
    "in_dim = 1\n",
    "\n",
    "dim_cnn_layers = [16, 32]\n",
    "kernel_size = (3, 3)\n",
    "strides = [[2, 2], [2, 2]]\n",
    "out_dim = 10\n",
    "dim_mlp_layers = [128, out_dim]\n",
    "norm = BatchNorm\n",
    "drop_rate = 0\n",
    "hidden_function = ReLU\n",
    "out_function = Identity\n",
    "loss_function = SoftmaxCrossEntropy"
   ]
  },
  {
   "cell_type": "code",
   "execution_count": 5,
   "metadata": {
    "colab": {
     "base_uri": "https://localhost:8080/"
    },
    "id": "oUiD-vRXr0Zb",
    "outputId": "52f5ebc5-3c93-49f9-8756-029e44e66617"
   },
   "outputs": [
    {
     "name": "stdout",
     "output_type": "stream",
     "text": [
      "207274 parameters\n",
      "cnn.0.Conv2d.weight                      shape (3, 3, 1, 16)    mean -0.0227      std 0.3420       dtype float32     \n",
      "cnn.0.Conv2d.bias                        shape (16,)            mean 0.0000       std 0.0000       dtype float32     \n",
      "cnn.0.BatchNorm.gamma                    shape (16,)            mean 1.0000       std 0.0000       dtype float32     \n",
      "cnn.0.BatchNorm.beta                     shape (16,)            mean 0.0000       std 0.0000       dtype float32     \n",
      "cnn.0.BatchNorm.moving_var               shape (16,)            mean 1.0000       std 0.0000       dtype float32     \n",
      "cnn.0.BatchNorm.moving_mean              shape (16,)            mean 0.0000       std 0.0000       dtype float32     \n",
      "cnn.1.Conv2d.weight                      shape (3, 3, 16, 32)   mean -0.0007      std 0.0834       dtype float32     \n",
      "cnn.1.Conv2d.bias                        shape (32,)            mean 0.0000       std 0.0000       dtype float32     \n",
      "cnn.1.BatchNorm.gamma                    shape (32,)            mean 1.0000       std 0.0000       dtype float32     \n",
      "cnn.1.BatchNorm.beta                     shape (32,)            mean 0.0000       std 0.0000       dtype float32     \n",
      "cnn.1.BatchNorm.moving_var               shape (32,)            mean 1.0000       std 0.0000       dtype float32     \n",
      "cnn.1.BatchNorm.moving_mean              shape (32,)            mean 0.0000       std 0.0000       dtype float32     \n",
      "mlp.0.Linear.weight                      shape (1568, 128)      mean 0.0000       std 0.0252       dtype float32     \n",
      "mlp.0.Linear.bias                        shape (128,)           mean 0.0000       std 0.0000       dtype float32     \n",
      "mlp.0.BatchNorm.gamma                    shape (128,)           mean 1.0000       std 0.0000       dtype float32     \n",
      "mlp.0.BatchNorm.beta                     shape (128,)           mean 0.0000       std 0.0000       dtype float32     \n",
      "mlp.0.BatchNorm.moving_var               shape (128,)           mean 1.0000       std 0.0000       dtype float32     \n",
      "mlp.0.BatchNorm.moving_mean              shape (128,)           mean 0.0000       std 0.0000       dtype float32     \n",
      "mlp.1.Linear.weight                      shape (128, 10)        mean -0.0042      std 0.0888       dtype float32     \n",
      "mlp.1.Linear.bias                        shape (10,)            mean 0.0000       std 0.0000       dtype float32     \n"
     ]
    }
   ],
   "source": [
    "# Create Model\n",
    "model = CNNModel(\n",
    "  in_height=in_height, \n",
    "  in_width=in_width, \n",
    "  in_dim=in_dim, \n",
    "  dim_cnn_layers=dim_cnn_layers,\n",
    "  kernel_size=kernel_size,\n",
    "  strides=strides,\n",
    "  dim_mlp_layers=dim_mlp_layers,\n",
    "  hidden_function=hidden_function,\n",
    "  out_function=out_function,\n",
    "  norm=norm, \n",
    "  drop_rate=drop_rate,\n",
    "  loss_function=loss_function,\n",
    "  dtype=dtype\n",
    ")\n",
    "\n",
    "model.optimizer = optimizer(model.get_parameters(), lr=0, betas=(0.9, 0.999), eps=1e-8, weight_decay=0.1)\n",
    "model.scheduler = scheduler(model.optimizer, warmup_steps=len(x_train) // batch_size, lr_max=0.005, lr_min=0.00005, end_step=5*len(x_train) // batch_size)\n",
    "\n",
    "# Model Summary\n",
    "model.summary()"
   ]
  },
  {
   "cell_type": "code",
   "execution_count": 6,
   "metadata": {
    "colab": {
     "base_uri": "https://localhost:8080/"
    },
    "id": "bAqoL91fr0Zd",
    "outputId": "e25dc47d-2c6b-4773-8a5f-4cfdedba48ef"
   },
   "outputs": [
    {
     "name": "stdout",
     "output_type": "stream",
     "text": [
      "x_train: (1875, 32, 28, 28, 1)\n",
      "y_train: (1875, 32, 10)\n",
      "x_val: (312, 32, 28, 28, 1)\n",
      "y_val: (312, 32, 10)\n"
     ]
    }
   ],
   "source": [
    "# Batch Training set\n",
    "train_len = len(x_train)\n",
    "overflow = train_len % batch_size\n",
    "x_train = x_train[:train_len-overflow]\n",
    "y_train = y_train[:train_len-overflow]\n",
    "x_train = np.reshape(x_train, (-1, batch_size, in_height, in_width, 1))\n",
    "y_train = np.reshape(y_train, (-1, batch_size, out_dim))\n",
    "\n",
    "print('x_train: ' + str(x_train.shape))\n",
    "print('y_train: ' + str(y_train.shape))\n",
    "\n",
    "# Batch validation set\n",
    "val_len = len(x_val)\n",
    "overflow = val_len % batch_size\n",
    "x_val = x_val[:val_len-overflow]\n",
    "y_val = y_val[:val_len-overflow]\n",
    "x_val = np.reshape(x_val, (-1, batch_size, in_height, in_width, 1))\n",
    "y_val = np.reshape(y_val, (-1, batch_size, out_dim))\n",
    "\n",
    "print('x_val: ' + str(x_val.shape))\n",
    "print('y_val: ' + str(y_val.shape))"
   ]
  },
  {
   "cell_type": "code",
   "execution_count": 7,
   "metadata": {
    "colab": {
     "base_uri": "https://localhost:8080/"
    },
    "id": "CmcLF5ncr0Zg",
    "outputId": "9df5dabf-96a6-4bcf-fa96-7fb5ae38410f"
   },
   "outputs": [
    {
     "name": "stdout",
     "output_type": "stream",
     "text": [
      "Epoch 1/5:\n"
     ]
    },
    {
     "name": "stderr",
     "output_type": "stream",
     "text": [
      "mean loss: 0.2653 - batch loss: 0.0741 - mean acc: 92.20 - batch acc: 96.88 - lr: 0.005000 - step: 1875: 100%|██████████| 1875/1875 [06:38<00:00,  4.70it/s]\n",
      "mean loss: 0.1007 - batch loss: 0.1191 - mean acc: 96.72 - batch acc: 93.75: 100%|████████████████████████████████████████| 312/312 [00:15<00:00, 19.72it/s]\n"
     ]
    },
    {
     "name": "stdout",
     "output_type": "stream",
     "text": [
      "validation loss: 0.1007\n",
      "validation accuracy: 96.72%\n",
      "\n",
      "Epoch 2/5:\n"
     ]
    },
    {
     "name": "stderr",
     "output_type": "stream",
     "text": [
      "mean loss: 0.0893 - batch loss: 0.0520 - mean acc: 97.20 - batch acc: 96.88 - lr: 0.004275 - step: 3750: 100%|██████████| 1875/1875 [07:13<00:00,  4.33it/s]\n",
      "mean loss: 0.0743 - batch loss: 0.0776 - mean acc: 97.58 - batch acc: 93.75: 100%|████████████████████████████████████████| 312/312 [00:17<00:00, 18.20it/s]\n"
     ]
    },
    {
     "name": "stdout",
     "output_type": "stream",
     "text": [
      "validation loss: 0.0743\n",
      "validation accuracy: 97.58%\n",
      "\n",
      "Epoch 3/5:\n"
     ]
    },
    {
     "name": "stderr",
     "output_type": "stream",
     "text": [
      "mean loss: 0.0632 - batch loss: 0.0278 - mean acc: 98.00 - batch acc: 100.00 - lr: 0.002525 - step: 5625: 100%|█████████| 1875/1875 [06:41<00:00,  4.67it/s]\n",
      "mean loss: 0.0439 - batch loss: 0.0157 - mean acc: 98.58 - batch acc: 100.00: 100%|███████████████████████████████████████| 312/312 [00:13<00:00, 22.54it/s]\n"
     ]
    },
    {
     "name": "stdout",
     "output_type": "stream",
     "text": [
      "validation loss: 0.0439\n",
      "validation accuracy: 98.58%\n",
      "\n",
      "Epoch 4/5:\n"
     ]
    },
    {
     "name": "stderr",
     "output_type": "stream",
     "text": [
      "mean loss: 0.0316 - batch loss: 0.0222 - mean acc: 99.07 - batch acc: 100.00 - lr: 0.000775 - step: 7500: 100%|█████████| 1875/1875 [06:52<00:00,  4.54it/s]\n",
      "mean loss: 0.0342 - batch loss: 0.0044 - mean acc: 98.97 - batch acc: 100.00: 100%|███████████████████████████████████████| 312/312 [00:16<00:00, 19.39it/s]\n"
     ]
    },
    {
     "name": "stdout",
     "output_type": "stream",
     "text": [
      "validation loss: 0.0342\n",
      "validation accuracy: 98.97%\n",
      "\n",
      "Epoch 5/5:\n"
     ]
    },
    {
     "name": "stderr",
     "output_type": "stream",
     "text": [
      "mean loss: 0.0108 - batch loss: 0.0014 - mean acc: 99.75 - batch acc: 100.00 - lr: 0.000050 - step: 9375: 100%|█████████| 1875/1875 [06:28<00:00,  4.83it/s]\n",
      "mean loss: 0.0235 - batch loss: 0.0014 - mean acc: 99.23 - batch acc: 100.00: 100%|███████████████████████████████████████| 312/312 [00:15<00:00, 20.51it/s]"
     ]
    },
    {
     "name": "stdout",
     "output_type": "stream",
     "text": [
      "validation loss: 0.0235\n",
      "validation accuracy: 99.23%\n",
      "\n"
     ]
    },
    {
     "name": "stderr",
     "output_type": "stream",
     "text": [
      "\n"
     ]
    }
   ],
   "source": [
    "# Train Model\n",
    "model.fit(\n",
    "  dataset_train=(x_train, y_train),\n",
    "  epochs=epochs,\n",
    "  dataset_val=(x_val, y_val)\n",
    ")"
   ]
  },
  {
   "cell_type": "code",
   "execution_count": null,
   "metadata": {
    "id": "l__lzPnfr0Zl"
   },
   "outputs": [],
   "source": []
  }
 ],
 "metadata": {
  "colab": {
   "collapsed_sections": [],
   "name": "MNIST.ipynb",
   "provenance": []
  },
  "kernelspec": {
   "display_name": "Python 3 (ipykernel)",
   "language": "python",
   "name": "python3"
  },
  "language_info": {
   "codemirror_mode": {
    "name": "ipython",
    "version": 3
   },
   "file_extension": ".py",
   "mimetype": "text/x-python",
   "name": "python",
   "nbconvert_exporter": "python",
   "pygments_lexer": "ipython3",
   "version": "3.7.3"
  }
 },
 "nbformat": 4,
 "nbformat_minor": 1
}
