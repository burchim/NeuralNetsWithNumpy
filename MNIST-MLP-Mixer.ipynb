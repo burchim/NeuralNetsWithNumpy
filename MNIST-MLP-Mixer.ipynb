{
 "cells": [
  {
   "cell_type": "code",
   "execution_count": 1,
   "metadata": {
    "id": "SZzAQQCrX68F"
   },
   "outputs": [],
   "source": [
    "import numpy as np\n",
    "import matplotlib.pyplot as plt\n",
    "from keras.datasets import mnist\n",
    "from keras.utils.np_utils import to_categorical"
   ]
  },
  {
   "cell_type": "code",
   "execution_count": null,
   "metadata": {
    "colab": {
     "base_uri": "https://localhost:8080/"
    },
    "id": "5kWN_H9NsBSN",
    "outputId": "7751cbb5-b7cc-4db5-cd45-28ccc2c0de3f"
   },
   "outputs": [],
   "source": [
    "!git clone https://github.com/burchim/NeuralNetsWithNumpy.git\n",
    "%cd NeuralNetsWithNumpy"
   ]
  },
  {
   "cell_type": "code",
   "execution_count": 2,
   "metadata": {
    "id": "cALwnq3-r0ZX"
   },
   "outputs": [],
   "source": [
    "# Modules\n",
    "from nnet.modules import (\n",
    "  Identity,\n",
    "  Sigmoid,\n",
    "  Tanh,\n",
    "  ReLU,\n",
    "  PReLU,\n",
    "  Swish,\n",
    "  LayerNorm,\n",
    "  BatchNorm\n",
    ")\n",
    "\n",
    "# Optimizers\n",
    "from nnet.optimizers import (\n",
    "  SGD,\n",
    "  RMSprop,\n",
    "  Adam,\n",
    "  AdamW\n",
    ")\n",
    "\n",
    "# Losses\n",
    "from nnet.losses import (\n",
    "  MeanAbsoluteError,\n",
    "  MeanSquaredError,\n",
    "  SoftmaxCrossEntropy\n",
    ")\n",
    "\n",
    "# Schedulers\n",
    "from nnet.schedulers import (\n",
    "  ConstantScheduler,\n",
    "  WarmupCosineAnnealingScheduler\n",
    ")\n",
    "\n",
    "# Model\n",
    "from nnet.models import MLPMixerModel"
   ]
  },
  {
   "cell_type": "code",
   "execution_count": 3,
   "metadata": {
    "colab": {
     "base_uri": "https://localhost:8080/"
    },
    "id": "1iSqq89Dr0ZZ",
    "outputId": "501c538f-9819-4ea8-cf87-44d11a17338c"
   },
   "outputs": [
    {
     "name": "stdout",
     "output_type": "stream",
     "text": [
      "x_train: (60000, 28, 28)\n",
      "y_train: (60000, 10)\n",
      "x_val:  (10000, 28, 28)\n",
      "y_val:  (10000, 10)\n",
      "\n"
     ]
    }
   ],
   "source": [
    "# Seed\n",
    "seed = 42\n",
    "np.random.seed(seed)\n",
    "\n",
    "# dtype\n",
    "dtype = np.float32\n",
    "\n",
    "# Load Dataset\n",
    "(x_train, y_train), (x_val, y_val) = mnist.load_data()\n",
    "\n",
    "# Prepare Dataset\n",
    "x_train = (x_train/255).astype(dtype)\n",
    "y_train = to_categorical(y_train).astype(dtype)\n",
    "x_val = (x_val/255).astype(dtype)\n",
    "y_val = to_categorical(y_val).astype(dtype)\n",
    "\n",
    "# shapes\n",
    "print('x_train: ' + str(x_train.shape))\n",
    "print('y_train: ' + str(y_train.shape))\n",
    "print('x_val:  '  + str(x_val.shape))\n",
    "print('y_val:  '  + str(y_val.shape))\n",
    "print()"
   ]
  },
  {
   "cell_type": "code",
   "execution_count": 4,
   "metadata": {
    "id": "WYefD1Zvr0Za"
   },
   "outputs": [],
   "source": [
    "# Params\n",
    "epochs = 5\n",
    "batch_size = 32\n",
    "optimizer = AdamW\n",
    "scheduler = WarmupCosineAnnealingScheduler\n",
    "\n",
    "in_height = 28\n",
    "in_width = 28\n",
    "in_dim = 1\n",
    "\n",
    "patch_size = 4\n",
    "num_layers = 2\n",
    "dim_feat = 32\n",
    "dim_expand_feat = 128\n",
    "dim_expand_seq = 128\n",
    "out_dim = 10\n",
    "out_layers = [128, out_dim]\n",
    "out_norm = LayerNorm\n",
    "\n",
    "hidden_function = ReLU\n",
    "drop_rate = 0.1\n",
    "out_function = Identity\n",
    "loss_function = SoftmaxCrossEntropy"
   ]
  },
  {
   "cell_type": "code",
   "execution_count": 5,
   "metadata": {
    "colab": {
     "base_uri": "https://localhost:8080/"
    },
    "id": "oUiD-vRXr0Zb",
    "outputId": "52f5ebc5-3c93-49f9-8756-029e44e66617"
   },
   "outputs": [
    {
     "name": "stdout",
     "output_type": "stream",
     "text": [
      "245324 parameters\n",
      "embedding.linear.weight                  shape (16, 32)         mean 0.0016       std 0.2578       dtype float32     \n",
      "embedding.linear.bias                    shape (32,)            mean 0.0000       std 0.0000       dtype float32     \n",
      "layers.0.MLPMixer.layernorm1.gamma       shape (32,)            mean 1.0000       std 0.0000       dtype float32     \n",
      "layers.0.MLPMixer.layernorm1.beta        shape (32,)            mean 0.0000       std 0.0000       dtype float32     \n",
      "layers.0.MLPMixer.mlp1.0.Linear.weight   shape (49, 128)        mean -0.0019      std 0.1428       dtype float32     \n",
      "layers.0.MLPMixer.mlp1.0.Linear.bias     shape (128,)           mean 0.0000       std 0.0000       dtype float32     \n",
      "layers.0.MLPMixer.mlp1.1.Linear.weight   shape (128, 49)        mean -0.0012      std 0.0879       dtype float32     \n",
      "layers.0.MLPMixer.mlp1.1.Linear.bias     shape (49,)            mean 0.0000       std 0.0000       dtype float32     \n",
      "layers.0.MLPMixer.layernorm2.gamma       shape (32,)            mean 1.0000       std 0.0000       dtype float32     \n",
      "layers.0.MLPMixer.layernorm2.beta        shape (32,)            mean 0.0000       std 0.0000       dtype float32     \n",
      "layers.0.MLPMixer.mlp2.0.Linear.weight   shape (32, 128)        mean 0.0010       std 0.1775       dtype float32     \n",
      "layers.0.MLPMixer.mlp2.0.Linear.bias     shape (128,)           mean 0.0000       std 0.0000       dtype float32     \n",
      "layers.0.MLPMixer.mlp2.1.Linear.weight   shape (128, 32)        mean 0.0028       std 0.0881       dtype float32     \n",
      "layers.0.MLPMixer.mlp2.1.Linear.bias     shape (32,)            mean 0.0000       std 0.0000       dtype float32     \n",
      "layers.1.MLPMixer.layernorm1.gamma       shape (32,)            mean 1.0000       std 0.0000       dtype float32     \n",
      "layers.1.MLPMixer.layernorm1.beta        shape (32,)            mean 0.0000       std 0.0000       dtype float32     \n",
      "layers.1.MLPMixer.mlp1.0.Linear.weight   shape (49, 128)        mean 0.0021       std 0.1424       dtype float32     \n",
      "layers.1.MLPMixer.mlp1.0.Linear.bias     shape (128,)           mean 0.0000       std 0.0000       dtype float32     \n",
      "layers.1.MLPMixer.mlp1.1.Linear.weight   shape (128, 49)        mean -0.0016      std 0.0879       dtype float32     \n",
      "layers.1.MLPMixer.mlp1.1.Linear.bias     shape (49,)            mean 0.0000       std 0.0000       dtype float32     \n",
      "layers.1.MLPMixer.layernorm2.gamma       shape (32,)            mean 1.0000       std 0.0000       dtype float32     \n",
      "layers.1.MLPMixer.layernorm2.beta        shape (32,)            mean 0.0000       std 0.0000       dtype float32     \n",
      "layers.1.MLPMixer.mlp2.0.Linear.weight   shape (32, 128)        mean -0.0014      std 0.1759       dtype float32     \n",
      "layers.1.MLPMixer.mlp2.0.Linear.bias     shape (128,)           mean 0.0000       std 0.0000       dtype float32     \n",
      "layers.1.MLPMixer.mlp2.1.Linear.weight   shape (128, 32)        mean -0.0003      std 0.0889       dtype float32     \n",
      "layers.1.MLPMixer.mlp2.1.Linear.bias     shape (32,)            mean 0.0000       std 0.0000       dtype float32     \n",
      "mlp_out.0.Linear.weight                  shape (1568, 128)      mean 0.0000       std 0.0253       dtype float32     \n",
      "mlp_out.0.Linear.bias                    shape (128,)           mean 0.0000       std 0.0000       dtype float32     \n",
      "mlp_out.0.LayerNorm.gamma                shape (128,)           mean 1.0000       std 0.0000       dtype float32     \n",
      "mlp_out.0.LayerNorm.beta                 shape (128,)           mean 0.0000       std 0.0000       dtype float32     \n",
      "mlp_out.1.Linear.weight                  shape (128, 10)        mean -0.0030      std 0.0885       dtype float32     \n",
      "mlp_out.1.Linear.bias                    shape (10,)            mean 0.0000       std 0.0000       dtype float32     \n"
     ]
    }
   ],
   "source": [
    "# Create Model\n",
    "model = MLPMixerModel(\n",
    "  in_height=in_height, \n",
    "  in_width=in_width, \n",
    "  in_dim=in_dim, \n",
    "  patch_size=patch_size,\n",
    "  num_layers=num_layers,\n",
    "  dim_feat=dim_feat,\n",
    "  dim_expand_feat=dim_expand_feat,\n",
    "  dim_expand_seq=dim_expand_seq,\n",
    "  out_layers=out_layers,\n",
    "  out_norm=out_norm,\n",
    "  hidden_function=hidden_function,\n",
    "  out_function=out_function,\n",
    "  drop_rate=drop_rate,\n",
    "  loss_function=loss_function,\n",
    "  dtype=dtype\n",
    ")\n",
    "\n",
    "model.optimizer = optimizer(model.get_parameters(), lr=0, betas=(0.9, 0.999), eps=1e-8, weight_decay=0.1)\n",
    "model.scheduler = scheduler(model.optimizer, warmup_steps=len(x_train) // batch_size, lr_max=0.005, lr_min=0.00005, end_step=5*len(x_train) // batch_size)\n",
    "\n",
    "# Model Summary\n",
    "model.summary()"
   ]
  },
  {
   "cell_type": "code",
   "execution_count": 6,
   "metadata": {
    "colab": {
     "base_uri": "https://localhost:8080/"
    },
    "id": "bAqoL91fr0Zd",
    "outputId": "e25dc47d-2c6b-4773-8a5f-4cfdedba48ef"
   },
   "outputs": [
    {
     "name": "stdout",
     "output_type": "stream",
     "text": [
      "x_train: (1875, 32, 28, 28)\n",
      "y_train: (1875, 32, 10)\n",
      "x_val: (312, 32, 28, 28)\n",
      "y_val: (312, 32, 10)\n"
     ]
    }
   ],
   "source": [
    "# Batch Training set\n",
    "train_len = len(x_train)\n",
    "overflow = train_len % batch_size\n",
    "x_train = x_train[:train_len-overflow]\n",
    "y_train = y_train[:train_len-overflow]\n",
    "x_train = np.reshape(x_train, (-1, batch_size, in_height, in_width))\n",
    "y_train = np.reshape(y_train, (-1, batch_size, out_dim))\n",
    "\n",
    "print('x_train: ' + str(x_train.shape))\n",
    "print('y_train: ' + str(y_train.shape))\n",
    "\n",
    "# Batch validation set\n",
    "val_len = len(x_val)\n",
    "overflow = val_len % batch_size\n",
    "x_val = x_val[:val_len-overflow]\n",
    "y_val = y_val[:val_len-overflow]\n",
    "x_val = np.reshape(x_val, (-1, batch_size, in_height, in_width))\n",
    "y_val = np.reshape(y_val, (-1, batch_size, out_dim))\n",
    "\n",
    "print('x_val: ' + str(x_val.shape))\n",
    "print('y_val: ' + str(y_val.shape))"
   ]
  },
  {
   "cell_type": "code",
   "execution_count": 7,
   "metadata": {
    "colab": {
     "base_uri": "https://localhost:8080/"
    },
    "id": "CmcLF5ncr0Zg",
    "outputId": "9df5dabf-96a6-4bcf-fa96-7fb5ae38410f"
   },
   "outputs": [
    {
     "name": "stdout",
     "output_type": "stream",
     "text": [
      "Epoch 1/5:\n"
     ]
    },
    {
     "name": "stderr",
     "output_type": "stream",
     "text": [
      "mean loss: 0.3331 - batch loss: 0.0367 - mean acc: 89.92 - batch acc: 100.00 - lr: 0.005000 - step: 1875: 100%|█████████| 1875/1875 [01:33<00:00, 20.15it/s]                \n",
      "mean loss: 0.1251 - batch loss: 0.1848 - mean acc: 96.08 - batch acc: 93.75: 100%|████████████████████████████████████████| 312/312 [00:05<00:00, 60.46it/s]\n"
     ]
    },
    {
     "name": "stdout",
     "output_type": "stream",
     "text": [
      "validation loss: 0.1251\n",
      "validation accuracy: 96.08%\n",
      "\n",
      "Epoch 2/5:\n"
     ]
    },
    {
     "name": "stderr",
     "output_type": "stream",
     "text": [
      "mean loss: 0.1359 - batch loss: 0.0275 - mean acc: 95.75 - batch acc: 100.00 - lr: 0.004275 - step: 3750: 100%|█████████| 1875/1875 [01:28<00:00, 21.27it/s]\n",
      "mean loss: 0.0867 - batch loss: 0.1380 - mean acc: 97.32 - batch acc: 93.75: 100%|████████████████████████████████████████| 312/312 [00:07<00:00, 42.95it/s]\n"
     ]
    },
    {
     "name": "stdout",
     "output_type": "stream",
     "text": [
      "validation loss: 0.0867\n",
      "validation accuracy: 97.32%\n",
      "\n",
      "Epoch 3/5:\n"
     ]
    },
    {
     "name": "stderr",
     "output_type": "stream",
     "text": [
      "mean loss: 0.0923 - batch loss: 0.0212 - mean acc: 97.18 - batch acc: 100.00 - lr: 0.002525 - step: 5625: 100%|█████████| 1875/1875 [01:24<00:00, 22.11it/s]\n",
      "mean loss: 0.0630 - batch loss: 0.0279 - mean acc: 98.07 - batch acc: 100.00: 100%|███████████████████████████████████████| 312/312 [00:05<00:00, 62.04it/s]\n"
     ]
    },
    {
     "name": "stdout",
     "output_type": "stream",
     "text": [
      "validation loss: 0.0630\n",
      "validation accuracy: 98.07%\n",
      "\n",
      "Epoch 4/5:\n"
     ]
    },
    {
     "name": "stderr",
     "output_type": "stream",
     "text": [
      "mean loss: 0.0530 - batch loss: 0.0310 - mean acc: 98.38 - batch acc: 96.88 - lr: 0.000775 - step: 7500: 100%|██████████| 1875/1875 [01:17<00:00, 24.05it/s]\n",
      "mean loss: 0.0368 - batch loss: 0.0503 - mean acc: 98.80 - batch acc: 96.88: 100%|████████████████████████████████████████| 312/312 [00:04<00:00, 64.01it/s]\n"
     ]
    },
    {
     "name": "stdout",
     "output_type": "stream",
     "text": [
      "validation loss: 0.0368\n",
      "validation accuracy: 98.80%\n",
      "\n",
      "Epoch 5/5:\n"
     ]
    },
    {
     "name": "stderr",
     "output_type": "stream",
     "text": [
      "mean loss: 0.0239 - batch loss: 0.0205 - mean acc: 99.30 - batch acc: 100.00 - lr: 0.000050 - step: 9375: 100%|█████████| 1875/1875 [01:14<00:00, 25.02it/s]\n",
      "mean loss: 0.0282 - batch loss: 0.0057 - mean acc: 99.09 - batch acc: 100.00: 100%|███████████████████████████████████████| 312/312 [00:04<00:00, 62.49it/s]\n"
     ]
    },
    {
     "name": "stdout",
     "output_type": "stream",
     "text": [
      "validation loss: 0.0282\n",
      "validation accuracy: 99.09%\n",
      "\n"
     ]
    }
   ],
   "source": [
    "# Train Model\n",
    "model.fit(\n",
    "  dataset_train=(x_train, y_train),\n",
    "  epochs=epochs,\n",
    "  dataset_val=(x_val, y_val)\n",
    ")"
   ]
  },
  {
   "cell_type": "code",
   "execution_count": null,
   "metadata": {
    "id": "l__lzPnfr0Zl"
   },
   "outputs": [],
   "source": []
  }
 ],
 "metadata": {
  "colab": {
   "collapsed_sections": [],
   "name": "MNIST.ipynb",
   "provenance": []
  },
  "kernelspec": {
   "display_name": "Python 3 (ipykernel)",
   "language": "python",
   "name": "python3"
  },
  "language_info": {
   "codemirror_mode": {
    "name": "ipython",
    "version": 3
   },
   "file_extension": ".py",
   "mimetype": "text/x-python",
   "name": "python",
   "nbconvert_exporter": "python",
   "pygments_lexer": "ipython3",
   "version": "3.7.3"
  }
 },
 "nbformat": 4,
 "nbformat_minor": 1
}
