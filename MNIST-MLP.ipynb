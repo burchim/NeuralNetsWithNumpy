{
 "cells": [
  {
   "cell_type": "code",
   "execution_count": 1,
   "metadata": {
    "id": "SZzAQQCrX68F"
   },
   "outputs": [],
   "source": [
    "import numpy as np\n",
    "import matplotlib.pyplot as plt\n",
    "from keras.datasets import mnist\n",
    "from keras.utils.np_utils import to_categorical"
   ]
  },
  {
   "cell_type": "code",
   "execution_count": null,
   "metadata": {
    "colab": {
     "base_uri": "https://localhost:8080/"
    },
    "id": "5kWN_H9NsBSN",
    "outputId": "7751cbb5-b7cc-4db5-cd45-28ccc2c0de3f"
   },
   "outputs": [],
   "source": [
    "!git clone https://github.com/burchim/NeuralNetsWithNumpy.git\n",
    "%cd NeuralNetsWithNumpy"
   ]
  },
  {
   "cell_type": "code",
   "execution_count": 2,
   "metadata": {
    "id": "cALwnq3-r0ZX"
   },
   "outputs": [],
   "source": [
    "# Modules\n",
    "from nnet.modules import (\n",
    "  Identity,\n",
    "  Sigmoid,\n",
    "  Tanh,\n",
    "  ReLU,\n",
    "  PReLU,\n",
    "  Swish,\n",
    "  LayerNorm,\n",
    "  BatchNorm\n",
    ")\n",
    "\n",
    "# Optimizers\n",
    "from nnet.optimizers import (\n",
    "  SGD,\n",
    "  RMSprop,\n",
    "  Adam,\n",
    "  AdamW\n",
    ")\n",
    "\n",
    "# Losses\n",
    "from nnet.losses import (\n",
    "  MeanAbsoluteError,\n",
    "  MeanSquaredError,\n",
    "  SoftmaxCrossEntropy\n",
    ")\n",
    "\n",
    "# Schedulers\n",
    "from nnet.schedulers import (\n",
    "  ConstantScheduler,\n",
    "  WarmupExpDecayScheduler\n",
    ")\n",
    "\n",
    "# Model\n",
    "from nnet.models import MLPModel"
   ]
  },
  {
   "cell_type": "code",
   "execution_count": 3,
   "metadata": {
    "colab": {
     "base_uri": "https://localhost:8080/"
    },
    "id": "1iSqq89Dr0ZZ",
    "outputId": "501c538f-9819-4ea8-cf87-44d11a17338c"
   },
   "outputs": [
    {
     "name": "stdout",
     "output_type": "stream",
     "text": [
      "x_train: (60000, 28, 28)\n",
      "y_train: (60000, 10)\n",
      "x_val:  (10000, 28, 28)\n",
      "y_val:  (10000, 10)\n",
      "\n"
     ]
    }
   ],
   "source": [
    "# Seed\n",
    "seed = 42\n",
    "np.random.seed(seed)\n",
    "\n",
    "# dtype\n",
    "dtype = np.float64\n",
    "\n",
    "# Load Dataset\n",
    "(x_train, y_train), (x_val, y_val) = mnist.load_data()\n",
    "\n",
    "# Prepare Dataset\n",
    "x_train = (x_train/255).astype(dtype)\n",
    "y_train = to_categorical(y_train).astype(dtype)\n",
    "x_val = (x_val/255).astype(dtype)\n",
    "y_val = to_categorical(y_val).astype(dtype)\n",
    "\n",
    "# shapes\n",
    "print('x_train: ' + str(x_train.shape))\n",
    "print('y_train: ' + str(y_train.shape))\n",
    "print('x_val:  '  + str(x_val.shape))\n",
    "print('y_val:  '  + str(y_val.shape))\n",
    "print()"
   ]
  },
  {
   "cell_type": "code",
   "execution_count": 4,
   "metadata": {
    "id": "WYefD1Zvr0Za"
   },
   "outputs": [],
   "source": [
    "# Params\n",
    "epochs = 5\n",
    "batch_size = 32\n",
    "optimizer = AdamW\n",
    "scheduler = WarmupExpDecayScheduler\n",
    "\n",
    "in_height = 28\n",
    "in_width = 28\n",
    "in_dim = 1\n",
    "out_dim = 10\n",
    "dim_layers = [128, out_dim]\n",
    "hidden_function = ReLU\n",
    "norm = LayerNorm\n",
    "drop_rate = 0\n",
    "out_function = Identity\n",
    "loss_function = SoftmaxCrossEntropy"
   ]
  },
  {
   "cell_type": "code",
   "execution_count": 5,
   "metadata": {
    "colab": {
     "base_uri": "https://localhost:8080/"
    },
    "id": "oUiD-vRXr0Zb",
    "outputId": "52f5ebc5-3c93-49f9-8756-029e44e66617"
   },
   "outputs": [
    {
     "name": "stdout",
     "output_type": "stream",
     "text": [
      "102026 parameters\n",
      "mlp.0.Linear.weight                      shape (784, 128)       mean -0.0001      std 0.0357       dtype float64     \n",
      "mlp.0.Linear.bias                        shape (128,)           mean 0.0000       std 0.0000       dtype float64     \n",
      "mlp.0.LayerNorm.gamma                    shape (128,)           mean 1.0000       std 0.0000       dtype float64     \n",
      "mlp.0.LayerNorm.beta                     shape (128,)           mean 0.0000       std 0.0000       dtype float64     \n",
      "mlp.1.Linear.weight                      shape (128, 10)        mean 0.0011       std 0.0883       dtype float64     \n",
      "mlp.1.Linear.bias                        shape (10,)            mean 0.0000       std 0.0000       dtype float64     \n"
     ]
    }
   ],
   "source": [
    "# Create Model\n",
    "model = MLPModel(\n",
    "  in_height=in_height, \n",
    "  in_width=in_width, \n",
    "  in_dim=in_dim, \n",
    "  dim_layers=dim_layers,\n",
    "  hidden_function=hidden_function,\n",
    "  out_function=out_function,\n",
    "  loss_function=loss_function,\n",
    "  norm=norm,\n",
    "  drop_rate=drop_rate,\n",
    "  dtype=dtype\n",
    ")\n",
    "\n",
    "model.optimizer = optimizer(model.get_parameters(), lr=0, betas=(0.9, 0.999), eps=1e-8)\n",
    "model.scheduler = scheduler(model.optimizer, warmup_steps=len(x_train) // batch_size, lr_max=0.01, alpha=0.1, end_step=4*len(x_train) // batch_size)\n",
    "\n",
    "# Model Summary\n",
    "model.summary()"
   ]
  },
  {
   "cell_type": "code",
   "execution_count": 6,
   "metadata": {
    "colab": {
     "base_uri": "https://localhost:8080/"
    },
    "id": "bAqoL91fr0Zd",
    "outputId": "e25dc47d-2c6b-4773-8a5f-4cfdedba48ef"
   },
   "outputs": [
    {
     "name": "stdout",
     "output_type": "stream",
     "text": [
      "x_train: (1875, 32, 28, 28)\n",
      "y_train: (1875, 32, 10)\n",
      "x_val: (312, 32, 28, 28)\n",
      "y_val: (312, 32, 10)\n"
     ]
    }
   ],
   "source": [
    "# Batch Training set\n",
    "train_len = len(x_train)\n",
    "overflow = train_len % batch_size\n",
    "x_train = x_train[:train_len-overflow]\n",
    "y_train = y_train[:train_len-overflow]\n",
    "x_train = np.reshape(x_train, (-1, batch_size, in_height, in_width))\n",
    "y_train = np.reshape(y_train, (-1, batch_size, out_dim))\n",
    "\n",
    "print('x_train: ' + str(x_train.shape))\n",
    "print('y_train: ' + str(y_train.shape))\n",
    "\n",
    "# Batch validation set\n",
    "val_len = len(x_val)\n",
    "overflow = val_len % batch_size\n",
    "x_val = x_val[:val_len-overflow]\n",
    "y_val = y_val[:val_len-overflow]\n",
    "x_val = np.reshape(x_val, (-1, batch_size, in_height, in_width))\n",
    "y_val = np.reshape(y_val, (-1, batch_size, out_dim))\n",
    "\n",
    "print('x_val: ' + str(x_val.shape))\n",
    "print('y_val: ' + str(y_val.shape))"
   ]
  },
  {
   "cell_type": "code",
   "execution_count": 7,
   "metadata": {
    "colab": {
     "base_uri": "https://localhost:8080/"
    },
    "id": "CmcLF5ncr0Zg",
    "outputId": "9df5dabf-96a6-4bcf-fa96-7fb5ae38410f"
   },
   "outputs": [
    {
     "name": "stdout",
     "output_type": "stream",
     "text": [
      "Epoch 1/5:\n"
     ]
    },
    {
     "name": "stderr",
     "output_type": "stream",
     "text": [
      "mean loss: 0.3082 - batch loss: 0.0743 - mean acc: 90.70 - batch acc: 100.00 - lr: 0.010000 - step: 1875: 100%|█████████| 1875/1875 [00:21<00:00, 87.03it/s]\n",
      "mean loss: 0.1641 - batch loss: 0.1875 - mean acc: 94.86 - batch acc: 93.75: 100%|███████████████████████████████████████| 312/312 [00:01<00:00, 287.90it/s]\n"
     ]
    },
    {
     "name": "stdout",
     "output_type": "stream",
     "text": [
      "validation loss: 0.1641\n",
      "validation accuracy: 94.86%\n",
      "\n",
      "Epoch 2/5:\n"
     ]
    },
    {
     "name": "stderr",
     "output_type": "stream",
     "text": [
      "mean loss: 0.1095 - batch loss: 0.0560 - mean acc: 96.58 - batch acc: 96.88 - lr: 0.004642 - step: 3750: 100%|██████████| 1875/1875 [00:27<00:00, 68.02it/s]\n",
      "mean loss: 0.0851 - batch loss: 0.0777 - mean acc: 97.42 - batch acc: 93.75: 100%|███████████████████████████████████████| 312/312 [00:01<00:00, 164.18it/s]\n"
     ]
    },
    {
     "name": "stdout",
     "output_type": "stream",
     "text": [
      "validation loss: 0.0851\n",
      "validation accuracy: 97.42%\n",
      "\n",
      "Epoch 3/5:\n"
     ]
    },
    {
     "name": "stderr",
     "output_type": "stream",
     "text": [
      "mean loss: 0.0614 - batch loss: 0.0182 - mean acc: 98.09 - batch acc: 100.00 - lr: 0.002154 - step: 5625: 100%|█████████| 1875/1875 [00:30<00:00, 61.10it/s]\n",
      "mean loss: 0.0750 - batch loss: 0.0209 - mean acc: 97.66 - batch acc: 100.00: 100%|██████████████████████████████████████| 312/312 [00:02<00:00, 125.73it/s]\n"
     ]
    },
    {
     "name": "stdout",
     "output_type": "stream",
     "text": [
      "validation loss: 0.0750\n",
      "validation accuracy: 97.66%\n",
      "\n",
      "Epoch 4/5:\n"
     ]
    },
    {
     "name": "stderr",
     "output_type": "stream",
     "text": [
      "mean loss: 0.0358 - batch loss: 0.0861 - mean acc: 98.89 - batch acc: 96.88 - lr: 0.001000 - step: 7500: 100%|█████████| 1875/1875 [00:17<00:00, 106.95it/s]\n",
      "mean loss: 0.0612 - batch loss: 0.0192 - mean acc: 97.99 - batch acc: 100.00: 100%|██████████████████████████████████████| 312/312 [00:01<00:00, 302.25it/s]\n"
     ]
    },
    {
     "name": "stdout",
     "output_type": "stream",
     "text": [
      "validation loss: 0.0612\n",
      "validation accuracy: 97.99%\n",
      "\n",
      "Epoch 5/5:\n"
     ]
    },
    {
     "name": "stderr",
     "output_type": "stream",
     "text": [
      "mean loss: 0.0219 - batch loss: 0.0032 - mean acc: 99.41 - batch acc: 100.00 - lr: 0.000464 - step: 9375: 100%|████████| 1875/1875 [00:14<00:00, 131.51it/s]\n",
      "mean loss: 0.0557 - batch loss: 0.0118 - mean acc: 98.30 - batch acc: 100.00: 100%|██████████████████████████████████████| 312/312 [00:01<00:00, 299.37it/s]"
     ]
    },
    {
     "name": "stdout",
     "output_type": "stream",
     "text": [
      "validation loss: 0.0557\n",
      "validation accuracy: 98.30%\n",
      "\n"
     ]
    },
    {
     "name": "stderr",
     "output_type": "stream",
     "text": [
      "\n"
     ]
    }
   ],
   "source": [
    "# Train Model\n",
    "model.fit(\n",
    "  dataset_train=(x_train, y_train),\n",
    "  epochs=epochs,\n",
    "  dataset_val=(x_val, y_val)\n",
    ")"
   ]
  },
  {
   "cell_type": "code",
   "execution_count": 8,
   "metadata": {
    "colab": {
     "base_uri": "https://localhost:8080/",
     "height": 1000
    },
    "id": "ZlYkP4M3d69O",
    "outputId": "d01b3e73-6c0a-4e79-cac3-855768916519"
   },
   "outputs": [
    {
     "name": "stdout",
     "output_type": "stream",
     "text": [
      "pred 4\n",
      "truth 4\n"
     ]
    },
    {
     "data": {
      "image/png": "[encoded data removed]",
      "text/plain": [
       "<Figure size 432x288 with 1 Axes>"
      ]
     },
     "metadata": {
      "needs_background": "light"
     },
     "output_type": "display_data"
    },
    {
     "name": "stdout",
     "output_type": "stream",
     "text": [
      "pred 6\n",
      "truth 6\n"
     ]
    },
    {
     "data": {
      "image/png": "[encoded data removed]",
      "text/plain": [
       "<Figure size 432x288 with 1 Axes>"
      ]
     },
     "metadata": {
      "needs_background": "light"
     },
     "output_type": "display_data"
    },
    {
     "name": "stdout",
     "output_type": "stream",
     "text": [
      "pred 1\n",
      "truth 1\n"
     ]
    },
    {
     "data": {
      "image/png": "[encoded data removed]",
      "text/plain": [
       "<Figure size 432x288 with 1 Axes>"
      ]
     },
     "metadata": {
      "needs_background": "light"
     },
     "output_type": "display_data"
    },
    {
     "name": "stdout",
     "output_type": "stream",
     "text": [
      "pred 2\n",
      "truth 2\n"
     ]
    },
    {
     "data": {
      "image/png": "[encoded data removed]",
      "text/plain": [
       "<Figure size 432x288 with 1 Axes>"
      ]
     },
     "metadata": {
      "needs_background": "light"
     },
     "output_type": "display_data"
    },
    {
     "name": "stdout",
     "output_type": "stream",
     "text": [
      "pred 5\n",
      "truth 5\n"
     ]
    },
    {
     "data": {
      "image/png": "[encoded data removed]",
      "text/plain": [
       "<Figure size 432x288 with 1 Axes>"
      ]
     },
     "metadata": {
      "needs_background": "light"
     },
     "output_type": "display_data"
    },
    {
     "name": "stdout",
     "output_type": "stream",
     "text": [
      "pred 0\n",
      "truth 0\n"
     ]
    },
    {
     "data": {
      "image/png": "[encoded data removed]",
      "text/plain": [
       "<Figure size 432x288 with 1 Axes>"
      ]
     },
     "metadata": {
      "needs_background": "light"
     },
     "output_type": "display_data"
    },
    {
     "name": "stdout",
     "output_type": "stream",
     "text": [
      "pred 7\n",
      "truth 7\n"
     ]
    },
    {
     "data": {
      "image/png": "[encoded data removed]",
      "text/plain": [
       "<Figure size 432x288 with 1 Axes>"
      ]
     },
     "metadata": {
      "needs_background": "light"
     },
     "output_type": "display_data"
    },
    {
     "name": "stdout",
     "output_type": "stream",
     "text": [
      "pred 9\n",
      "truth 9\n"
     ]
    },
    {
     "data": {
      "image/png": "[encoded data removed]",
      "text/plain": [
       "<Figure size 432x288 with 1 Axes>"
      ]
     },
     "metadata": {
      "needs_background": "light"
     },
     "output_type": "display_data"
    },
    {
     "name": "stdout",
     "output_type": "stream",
     "text": [
      "pred 9\n",
      "truth 9\n"
     ]
    },
    {
     "data": {
      "image/png": "[encoded data removed]",
      "text/plain": [
       "<Figure size 432x288 with 1 Axes>"
      ]
     },
     "metadata": {
      "needs_background": "light"
     },
     "output_type": "display_data"
    },
    {
     "name": "stdout",
     "output_type": "stream",
     "text": [
      "pred 0\n",
      "truth 0\n"
     ]
    },
    {
     "data": {
      "image/png": "[encoded data removed]",
      "text/plain": [
       "<Figure size 432x288 with 1 Axes>"
      ]
     },
     "metadata": {
      "needs_background": "light"
     },
     "output_type": "display_data"
    },
    {
     "name": "stdout",
     "output_type": "stream",
     "text": [
      "pred 3\n",
      "truth 3\n"
     ]
    },
    {
     "data": {
      "image/png": "[encoded data removed]",
      "text/plain": [
       "<Figure size 432x288 with 1 Axes>"
      ]
     },
     "metadata": {
      "needs_background": "light"
     },
     "output_type": "display_data"
    },
    {
     "name": "stdout",
     "output_type": "stream",
     "text": [
      "pred 8\n",
      "truth 8\n"
     ]
    },
    {
     "data": {
      "image/png": "[encoded data removed]",
      "text/plain": [
       "<Figure size 432x288 with 1 Axes>"
      ]
     },
     "metadata": {
      "needs_background": "light"
     },
     "output_type": "display_data"
    },
    {
     "name": "stdout",
     "output_type": "stream",
     "text": [
      "pred 2\n",
      "truth 4\n"
     ]
    },
    {
     "data": {
      "image/png": "[encoded data removed]",
      "text/plain": [
       "<Figure size 432x288 with 1 Axes>"
      ]
     },
     "metadata": {
      "needs_background": "light"
     },
     "output_type": "display_data"
    },
    {
     "name": "stdout",
     "output_type": "stream",
     "text": [
      "pred 4\n",
      "truth 4\n"
     ]
    },
    {
     "data": {
      "image/png": "[encoded data removed]",
      "text/plain": [
       "<Figure size 432x288 with 1 Axes>"
      ]
     },
     "metadata": {
      "needs_background": "light"
     },
     "output_type": "display_data"
    },
    {
     "name": "stdout",
     "output_type": "stream",
     "text": [
      "pred 8\n",
      "truth 8\n"
     ]
    },
    {
     "data": {
      "image/png": "[encoded data removed]",
      "text/plain": [
       "<Figure size 432x288 with 1 Axes>"
      ]
     },
     "metadata": {
      "needs_background": "light"
     },
     "output_type": "display_data"
    },
    {
     "name": "stdout",
     "output_type": "stream",
     "text": [
      "pred 1\n",
      "truth 1\n"
     ]
    },
    {
     "data": {
      "image/png": "[encoded data removed]",
      "text/plain": [
       "<Figure size 432x288 with 1 Axes>"
      ]
     },
     "metadata": {
      "needs_background": "light"
     },
     "output_type": "display_data"
    },
    {
     "name": "stdout",
     "output_type": "stream",
     "text": [
      "pred 8\n",
      "truth 8\n"
     ]
    },
    {
     "data": {
      "image/png": "[encoded data removed]",
      "text/plain": [
       "<Figure size 432x288 with 1 Axes>"
      ]
     },
     "metadata": {
      "needs_background": "light"
     },
     "output_type": "display_data"
    },
    {
     "name": "stdout",
     "output_type": "stream",
     "text": [
      "pred 6\n",
      "truth 6\n"
     ]
    },
    {
     "data": {
      "image/png": "[encoded data removed]",
      "text/plain": [
       "<Figure size 432x288 with 1 Axes>"
      ]
     },
     "metadata": {
      "needs_background": "light"
     },
     "output_type": "display_data"
    },
    {
     "name": "stdout",
     "output_type": "stream",
     "text": [
      "pred 5\n",
      "truth 5\n"
     ]
    },
    {
     "data": {
      "image/png": "[encoded data removed]",
      "text/plain": [
       "<Figure size 432x288 with 1 Axes>"
      ]
     },
     "metadata": {
      "needs_background": "light"
     },
     "output_type": "display_data"
    },
    {
     "name": "stdout",
     "output_type": "stream",
     "text": [
      "pred 9\n",
      "truth 9\n"
     ]
    },
    {
     "data": {
      "image/png": "[encoded data removed]",
      "text/plain": [
       "<Figure size 432x288 with 1 Axes>"
      ]
     },
     "metadata": {
      "needs_background": "light"
     },
     "output_type": "display_data"
    },
    {
     "name": "stdout",
     "output_type": "stream",
     "text": [
      "pred 0\n",
      "truth 0\n"
     ]
    },
    {
     "data": {
      "image/png": "[encoded data removed]",
      "text/plain": [
       "<Figure size 432x288 with 1 Axes>"
      ]
     },
     "metadata": {
      "needs_background": "light"
     },
     "output_type": "display_data"
    },
    {
     "name": "stdout",
     "output_type": "stream",
     "text": [
      "pred 0\n",
      "truth 0\n"
     ]
    },
    {
     "data": {
      "image/png": "[encoded data removed]",
      "text/plain": [
       "<Figure size 432x288 with 1 Axes>"
      ]
     },
     "metadata": {
      "needs_background": "light"
     },
     "output_type": "display_data"
    },
    {
     "name": "stdout",
     "output_type": "stream",
     "text": [
      "pred 0\n",
      "truth 0\n"
     ]
    },
    {
     "data": {
      "image/png": "[encoded data removed]",
      "text/plain": [
       "<Figure size 432x288 with 1 Axes>"
      ]
     },
     "metadata": {
      "needs_background": "light"
     },
     "output_type": "display_data"
    },
    {
     "name": "stdout",
     "output_type": "stream",
     "text": [
      "pred 3\n",
      "truth 3\n"
     ]
    },
    {
     "data": {
      "image/png": "[encoded data removed]",
      "text/plain": [
       "<Figure size 432x288 with 1 Axes>"
      ]
     },
     "metadata": {
      "needs_background": "light"
     },
     "output_type": "display_data"
    },
    {
     "name": "stdout",
     "output_type": "stream",
     "text": [
      "pred 7\n",
      "truth 7\n"
     ]
    },
    {
     "data": {
      "image/png": "[encoded data removed]",
      "text/plain": [
       "<Figure size 432x288 with 1 Axes>"
      ]
     },
     "metadata": {
      "needs_background": "light"
     },
     "output_type": "display_data"
    },
    {
     "name": "stdout",
     "output_type": "stream",
     "text": [
      "pred 1\n",
      "truth 1\n"
     ]
    },
    {
     "data": {
      "image/png": "[encoded data removed]",
      "text/plain": [
       "<Figure size 432x288 with 1 Axes>"
      ]
     },
     "metadata": {
      "needs_background": "light"
     },
     "output_type": "display_data"
    },
    {
     "name": "stdout",
     "output_type": "stream",
     "text": [
      "pred 6\n",
      "truth 6\n"
     ]
    },
    {
     "data": {
      "image/png": "[encoded data removed]",
      "text/plain": [
       "<Figure size 432x288 with 1 Axes>"
      ]
     },
     "metadata": {
      "needs_background": "light"
     },
     "output_type": "display_data"
    },
    {
     "name": "stdout",
     "output_type": "stream",
     "text": [
      "pred 4\n",
      "truth 4\n"
     ]
    },
    {
     "data": {
      "image/png": "[encoded data removed]",
      "text/plain": [
       "<Figure size 432x288 with 1 Axes>"
      ]
     },
     "metadata": {
      "needs_background": "light"
     },
     "output_type": "display_data"
    },
    {
     "name": "stdout",
     "output_type": "stream",
     "text": [
      "pred 2\n",
      "truth 2\n"
     ]
    },
    {
     "data": {
      "image/png": "[encoded data removed]",
      "text/plain": [
       "<Figure size 432x288 with 1 Axes>"
      ]
     },
     "metadata": {
      "needs_background": "light"
     },
     "output_type": "display_data"
    },
    {
     "name": "stdout",
     "output_type": "stream",
     "text": [
      "pred 6\n",
      "truth 6\n"
     ]
    },
    {
     "data": {
      "image/png": "[encoded data removed]",
      "text/plain": [
       "<Figure size 432x288 with 1 Axes>"
      ]
     },
     "metadata": {
      "needs_background": "light"
     },
     "output_type": "display_data"
    },
    {
     "name": "stdout",
     "output_type": "stream",
     "text": [
      "pred 6\n",
      "truth 6\n"
     ]
    },
    {
     "data": {
      "image/png": "[encoded data removed]",
      "text/plain": [
       "<Figure size 432x288 with 1 Axes>"
      ]
     },
     "metadata": {
      "needs_background": "light"
     },
     "output_type": "display_data"
    },
    {
     "name": "stdout",
     "output_type": "stream",
     "text": [
      "pred 0\n",
      "truth 0\n"
     ]
    },
    {
     "data": {
      "image/png": "[encoded data removed]",
      "text/plain": [
       "<Figure size 432x288 with 1 Axes>"
      ]
     },
     "metadata": {
      "needs_background": "light"
     },
     "output_type": "display_data"
    }
   ],
   "source": [
    "N = 1\n",
    "indices = np.random.randint(0, len(x_val), size=N)\n",
    "\n",
    "for n in range(N):\n",
    "    x, y = x_val[indices[n]], y_val[indices[n]]\n",
    "    y_pred = model(x)\n",
    "\n",
    "    for b in range(batch_size):\n",
    "\n",
    "        print(\"pred\", y_pred[b].argmax(axis=-1))\n",
    "        print(\"truth\", y[b].argmax(axis=-1))\n",
    "        plt.imshow(x[b])\n",
    "        plt.show()"
   ]
  },
  {
   "cell_type": "code",
   "execution_count": null,
   "metadata": {
    "id": "l__lzPnfr0Zl"
   },
   "outputs": [],
   "source": []
  }
 ],
 "metadata": {
  "colab": {
   "collapsed_sections": [],
   "name": "MNIST.ipynb",
   "provenance": []
  },
  "kernelspec": {
   "display_name": "Python 3 (ipykernel)",
   "language": "python",
   "name": "python3"
  },
  "language_info": {
   "codemirror_mode": {
    "name": "ipython",
    "version": 3
   },
   "file_extension": ".py",
   "mimetype": "text/x-python",
   "name": "python",
   "nbconvert_exporter": "python",
   "pygments_lexer": "ipython3",
   "version": "3.7.3"
  }
 },
 "nbformat": 4,
 "nbformat_minor": 1
}
